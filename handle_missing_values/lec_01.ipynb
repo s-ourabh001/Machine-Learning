{
  "nbformat": 4,
  "nbformat_minor": 0,
  "metadata": {
    "colab": {
      "provenance": [],
      "authorship_tag": "ABX9TyPWeut3wXS9iMpacIXRjnjc",
      "include_colab_link": true
    },
    "kernelspec": {
      "name": "python3",
      "display_name": "Python 3"
    },
    "language_info": {
      "name": "python"
    }
  },
  "cells": [
    {
      "cell_type": "markdown",
      "metadata": {
        "id": "view-in-github",
        "colab_type": "text"
      },
      "source": [
        "<a href=\"https://colab.research.google.com/github/s-ourabh001/Machine-Learning/blob/main/handle_missing_values/lec_01.ipynb\" target=\"_parent\"><img src=\"https://colab.research.google.com/assets/colab-badge.svg\" alt=\"Open In Colab\"/></a>"
      ]
    },
    {
      "cell_type": "markdown",
      "source": [
        "Methods of handling missing values\n",
        "\n",
        "1- Imputation\n",
        "\n",
        "2-Dropping"
      ],
      "metadata": {
        "id": "9Rx1OqC7vPUj"
      }
    },
    {
      "cell_type": "code",
      "source": [
        "import pandas as pd\n",
        "import numpy as np\n",
        "import matplotlib.pyplot as plt\n",
        "import seaborn as sns"
      ],
      "metadata": {
        "id": "iphNeJo-vvZs"
      },
      "execution_count": 2,
      "outputs": []
    },
    {
      "cell_type": "code",
      "source": [
        "df=pd.read_csv('Placement_Dataset.csv')\n",
        "print(df.head())\n",
        "print(df.columns)\n",
        "print(df.shape)"
      ],
      "metadata": {
        "colab": {
          "base_uri": "https://localhost:8080/"
        },
        "id": "6KtYpFQuvyjo",
        "outputId": "b9c32620-6781-4e79-d4c1-5e7defeec799"
      },
      "execution_count": 4,
      "outputs": [
        {
          "output_type": "stream",
          "name": "stdout",
          "text": [
            "   sl_no gender  ssc_p    ssc_b  hsc_p    hsc_b     hsc_s  degree_p  \\\n",
            "0      1      M  67.00   Others  91.00   Others  Commerce     58.00   \n",
            "1      2      M  79.33  Central  78.33   Others   Science     77.48   \n",
            "2      3      M  65.00  Central  68.00  Central      Arts     64.00   \n",
            "3      4      M  56.00  Central  52.00  Central   Science     52.00   \n",
            "4      5      M  85.80  Central  73.60  Central  Commerce     73.30   \n",
            "\n",
            "    degree_t workex  etest_p specialisation  mba_p      status    salary  \n",
            "0   Sci&Tech     No     55.0         Mkt&HR  58.80      Placed  270000.0  \n",
            "1   Sci&Tech    Yes     86.5        Mkt&Fin  66.28      Placed  200000.0  \n",
            "2  Comm&Mgmt     No     75.0        Mkt&Fin  57.80      Placed  250000.0  \n",
            "3   Sci&Tech     No     66.0         Mkt&HR  59.43  Not Placed       NaN  \n",
            "4  Comm&Mgmt     No     96.8        Mkt&Fin  55.50      Placed  425000.0  \n",
            "Index(['sl_no', 'gender', 'ssc_p', 'ssc_b', 'hsc_p', 'hsc_b', 'hsc_s',\n",
            "       'degree_p', 'degree_t', 'workex', 'etest_p', 'specialisation', 'mba_p',\n",
            "       'status', 'salary'],\n",
            "      dtype='object')\n",
            "(215, 15)\n"
          ]
        }
      ]
    },
    {
      "cell_type": "code",
      "source": [
        "df.isnull().sum()"
      ],
      "metadata": {
        "colab": {
          "base_uri": "https://localhost:8080/",
          "height": 554
        },
        "id": "T7QBmTBqxfek",
        "outputId": "1a4c334d-d63d-44f1-b310-976e2cbba53f"
      },
      "execution_count": null,
      "outputs": [
        {
          "output_type": "execute_result",
          "data": {
            "text/plain": [
              "sl_no              0\n",
              "gender             0\n",
              "ssc_p              0\n",
              "ssc_b              0\n",
              "hsc_p              0\n",
              "hsc_b              0\n",
              "hsc_s              0\n",
              "degree_p           0\n",
              "degree_t           0\n",
              "workex             0\n",
              "etest_p            0\n",
              "specialisation     0\n",
              "mba_p              0\n",
              "status             0\n",
              "salary            67\n",
              "dtype: int64"
            ],
            "text/html": [
              "<div>\n",
              "<style scoped>\n",
              "    .dataframe tbody tr th:only-of-type {\n",
              "        vertical-align: middle;\n",
              "    }\n",
              "\n",
              "    .dataframe tbody tr th {\n",
              "        vertical-align: top;\n",
              "    }\n",
              "\n",
              "    .dataframe thead th {\n",
              "        text-align: right;\n",
              "    }\n",
              "</style>\n",
              "<table border=\"1\" class=\"dataframe\">\n",
              "  <thead>\n",
              "    <tr style=\"text-align: right;\">\n",
              "      <th></th>\n",
              "      <th>0</th>\n",
              "    </tr>\n",
              "  </thead>\n",
              "  <tbody>\n",
              "    <tr>\n",
              "      <th>sl_no</th>\n",
              "      <td>0</td>\n",
              "    </tr>\n",
              "    <tr>\n",
              "      <th>gender</th>\n",
              "      <td>0</td>\n",
              "    </tr>\n",
              "    <tr>\n",
              "      <th>ssc_p</th>\n",
              "      <td>0</td>\n",
              "    </tr>\n",
              "    <tr>\n",
              "      <th>ssc_b</th>\n",
              "      <td>0</td>\n",
              "    </tr>\n",
              "    <tr>\n",
              "      <th>hsc_p</th>\n",
              "      <td>0</td>\n",
              "    </tr>\n",
              "    <tr>\n",
              "      <th>hsc_b</th>\n",
              "      <td>0</td>\n",
              "    </tr>\n",
              "    <tr>\n",
              "      <th>hsc_s</th>\n",
              "      <td>0</td>\n",
              "    </tr>\n",
              "    <tr>\n",
              "      <th>degree_p</th>\n",
              "      <td>0</td>\n",
              "    </tr>\n",
              "    <tr>\n",
              "      <th>degree_t</th>\n",
              "      <td>0</td>\n",
              "    </tr>\n",
              "    <tr>\n",
              "      <th>workex</th>\n",
              "      <td>0</td>\n",
              "    </tr>\n",
              "    <tr>\n",
              "      <th>etest_p</th>\n",
              "      <td>0</td>\n",
              "    </tr>\n",
              "    <tr>\n",
              "      <th>specialisation</th>\n",
              "      <td>0</td>\n",
              "    </tr>\n",
              "    <tr>\n",
              "      <th>mba_p</th>\n",
              "      <td>0</td>\n",
              "    </tr>\n",
              "    <tr>\n",
              "      <th>status</th>\n",
              "      <td>0</td>\n",
              "    </tr>\n",
              "    <tr>\n",
              "      <th>salary</th>\n",
              "      <td>67</td>\n",
              "    </tr>\n",
              "  </tbody>\n",
              "</table>\n",
              "</div><br><label><b>dtype:</b> int64</label>"
            ]
          },
          "metadata": {},
          "execution_count": 34
        }
      ]
    },
    {
      "cell_type": "code",
      "source": [
        "sns.displot(x='salary',data=df,kde=True)\n"
      ],
      "metadata": {
        "colab": {
          "base_uri": "https://localhost:8080/",
          "height": 523
        },
        "id": "Rf48-xLTxqXi",
        "outputId": "e2d7b1d2-ef29-467c-8bcc-10bda24c0063"
      },
      "execution_count": null,
      "outputs": [
        {
          "output_type": "execute_result",
          "data": {
            "text/plain": [
              "<seaborn.axisgrid.FacetGrid at 0x7a70a0594f10>"
            ]
          },
          "metadata": {},
          "execution_count": 48
        },
        {
          "output_type": "display_data",
          "data": {
            "text/plain": [
              "<Figure size 500x500 with 1 Axes>"
            ],
            "image/png": "[encoded data removed]"
          },
          "metadata": {}
        }
      ]
    },
    {
      "cell_type": "markdown",
      "source": [
        "since there are outliers in  salary field we cannot replace it with mean so try to replace it withh median"
      ],
      "metadata": {
        "id": "sc0QSc7gy232"
      }
    },
    {
      "cell_type": "code",
      "source": [
        "#df['salary']=df['salary'].fillna(df['salary'].median())\n",
        "#print(df.head)\n",
        "#df.isnull().sum()\n"
      ],
      "metadata": {
        "colab": {
          "base_uri": "https://localhost:8080/"
        },
        "id": "eNyKN6Qqy_Gb",
        "outputId": "5d801143-35e5-4d29-99a5-8f04a4d940f9"
      },
      "execution_count": null,
      "outputs": [
        {
          "output_type": "stream",
          "name": "stdout",
          "text": [
            "(148, 15)\n"
          ]
        }
      ]
    },
    {
      "cell_type": "code",
      "source": [
        "#we can also use interpolate method to fill  or  method =ffill or bfill in fillna method\n",
        "\n",
        "#df['salary']=df['salary'].interpolate();   #interpolate method\n",
        "\n",
        "#df['salary']=df['salary'].fillna(method='ffill');  #forward or backward fill\n",
        "#df.isnull().sum()"
      ],
      "metadata": {
        "id": "SCg2keLYzxEB"
      },
      "execution_count": null,
      "outputs": []
    },
    {
      "cell_type": "code",
      "source": [
        "#droping method- drop whole column having nan value(bad ) or drop whole row having nan value( better than dropping whole column  but  bad when dataset is small)\n",
        "print(df.shape)\n",
        "salary=pd.read_csv('Placement_Dataset.csv')\n",
        "salary=salary.dropna(axis=0)\n",
        "\n",
        "print(salary.shape)\n"
      ],
      "metadata": {
        "colab": {
          "base_uri": "https://localhost:8080/"
        },
        "id": "oK4hJJdSz5Y5",
        "outputId": "105297d1-f9ed-4fd0-fd2d-272d62a70398"
      },
      "execution_count": null,
      "outputs": [
        {
          "output_type": "stream",
          "name": "stdout",
          "text": [
            "(215, 15)\n",
            "(148, 15)\n"
          ]
        }
      ]
    },
    {
      "cell_type": "markdown",
      "source": [
        "**DATA STANDARDIZATION:\n",
        "\n",
        "the process of standardizatiom the data to common format and common range**\n",
        "\n",
        "✅ What is Standardization in Machine Learning?\n",
        "Standardization (or Z-score normalization) is a feature scaling technique used to transform the data to have a mean of 0 and a standard deviation of 1.\n",
        "\n",
        "🔍 Why Use Standardization?\n",
        "Many machine learning algorithms (like SVM, KNN, Logistic Regression, Neural Networks) perform better when input features are on the same scale.\n",
        "\n",
        "Without standardization:\n",
        "\n",
        "Features with larger values can dominate the learning process.\n",
        "\n",
        "It slows down convergence in algorithms like gradient descent.\n",
        "\n",
        "📐 The Formula\n",
        "For each feature\n",
        "𝑥\n",
        "x:\n",
        "\n",
        "𝑥\n",
        "standardized\n",
        "=\n",
        "𝑥\n",
        "−\n",
        "𝜇\n",
        "𝜎\n",
        "x\n",
        "standardized\n",
        "​\n",
        " =\n",
        "σ\n",
        "x−μ\n",
        "​\n",
        "\n",
        "Where:\n",
        "\n",
        "𝜇\n",
        "μ = mean of the feature\n",
        "\n",
        "𝜎\n",
        "σ = standard deviation of the feature\n",
        "\n",
        "✅ Example\n",
        "Assume a feature (like income) has values:\n",
        "\n",
        "csharp\n",
        "Copy code\n",
        "[40,000, 50,000, 60,000, 70,000]\n",
        "After standardization:\n",
        "\n",
        "ini\n",
        "Copy code\n",
        "[-1.34, -0.45, 0.45, 1.34]  # Now mean is 0, std dev is 1\n",
        "🧠 When to Use It?\n",
        "Use standardization when:\n",
        "\n",
        "Your model is distance-based (e.g., KNN, SVM, clustering)\n",
        "\n",
        "Your model assumes normality (e.g., Logistic Regression)\n",
        "\n",
        "You are using gradient-based optimizers\n",
        "\n",
        "❌ When Not to Use?\n",
        "Tree-based models like Decision Trees, Random Forest, and XGBoost don’t need standardization — they are invariant to feature scaling.\n",
        "\n",
        "\n",
        "\n",
        "#####\n",
        "\n",
        "if data is divided into train and test data\n",
        "then fit only x_train\n",
        "and transform x_train,x_test\n",
        "\n"
      ],
      "metadata": {
        "id": "v-oGUXI12pVG"
      }
    },
    {
      "cell_type": "code",
      "source": [
        "from sklearn.model_selection import train_test_split\n",
        "from sklearn.preprocessing import StandardScaler\n",
        "import sklearn.datasets"
      ],
      "metadata": {
        "id": "xvBnVxwU3B73"
      },
      "execution_count": 6,
      "outputs": []
    },
    {
      "cell_type": "code",
      "source": [
        "dataset=sklearn.datasets.load_breast_cancer()\n",
        "print(type(dataset))\n",
        "print(dir(dataset))\n",
        "\n",
        "df=pd.DataFrame(dataset.data,columns=dataset.feature_names)\n",
        "df['cancer']=dataset.target\n",
        "print(df.head())"
      ],
      "metadata": {
        "colab": {
          "base_uri": "https://localhost:8080/"
        },
        "id": "8kMLehhy0cYJ",
        "outputId": "d7615c47-1e43-4309-8b68-22a2c6838e41"
      },
      "execution_count": 18,
      "outputs": [
        {
          "output_type": "stream",
          "name": "stdout",
          "text": [
            "<class 'sklearn.utils._bunch.Bunch'>\n",
            "['DESCR', 'data', 'data_module', 'feature_names', 'filename', 'frame', 'target', 'target_names']\n",
            "   mean radius  mean texture  mean perimeter  mean area  mean smoothness  \\\n",
            "0        17.99         10.38          122.80     1001.0          0.11840   \n",
            "1        20.57         17.77          132.90     1326.0          0.08474   \n",
            "2        19.69         21.25          130.00     1203.0          0.10960   \n",
            "3        11.42         20.38           77.58      386.1          0.14250   \n",
            "4        20.29         14.34          135.10     1297.0          0.10030   \n",
            "\n",
            "   mean compactness  mean concavity  mean concave points  mean symmetry  \\\n",
            "0           0.27760          0.3001              0.14710         0.2419   \n",
            "1           0.07864          0.0869              0.07017         0.1812   \n",
            "2           0.15990          0.1974              0.12790         0.2069   \n",
            "3           0.28390          0.2414              0.10520         0.2597   \n",
            "4           0.13280          0.1980              0.10430         0.1809   \n",
            "\n",
            "   mean fractal dimension  ...  worst texture  worst perimeter  worst area  \\\n",
            "0                 0.07871  ...          17.33           184.60      2019.0   \n",
            "1                 0.05667  ...          23.41           158.80      1956.0   \n",
            "2                 0.05999  ...          25.53           152.50      1709.0   \n",
            "3                 0.09744  ...          26.50            98.87       567.7   \n",
            "4                 0.05883  ...          16.67           152.20      1575.0   \n",
            "\n",
            "   worst smoothness  worst compactness  worst concavity  worst concave points  \\\n",
            "0            0.1622             0.6656           0.7119                0.2654   \n",
            "1            0.1238             0.1866           0.2416                0.1860   \n",
            "2            0.1444             0.4245           0.4504                0.2430   \n",
            "3            0.2098             0.8663           0.6869                0.2575   \n",
            "4            0.1374             0.2050           0.4000                0.1625   \n",
            "\n",
            "   worst symmetry  worst fractal dimension  cancer  \n",
            "0          0.4601                  0.11890       0  \n",
            "1          0.2750                  0.08902       0  \n",
            "2          0.3613                  0.08758       0  \n",
            "3          0.6638                  0.17300       0  \n",
            "4          0.2364                  0.07678       0  \n",
            "\n",
            "[5 rows x 31 columns]\n"
          ]
        }
      ]
    },
    {
      "cell_type": "code",
      "source": [
        "y=df['cancer']\n",
        "x=df.drop(columns='cancer',axis=1);\n"
      ],
      "metadata": {
        "id": "RzXbG0YB0VOP"
      },
      "execution_count": 20,
      "outputs": []
    },
    {
      "cell_type": "code",
      "source": [
        "x_train,x_test,y_tain,y_test=train_test_split(x,y,test_size=0.2,random_state=3)\n"
      ],
      "metadata": {
        "id": "gX67-I8w2iye"
      },
      "execution_count": 22,
      "outputs": []
    },
    {
      "cell_type": "markdown",
      "source": [
        "standardization of data"
      ],
      "metadata": {
        "id": "ntndHObW4uPZ"
      }
    },
    {
      "cell_type": "code",
      "source": [
        "print(dataset.data.std()) #since std is  not near to one this means data points varies a lot  so need standarization"
      ],
      "metadata": {
        "colab": {
          "base_uri": "https://localhost:8080/"
        },
        "id": "xO5Ju9rs4xpY",
        "outputId": "c226e0c1-866e-49b4-f414-e7a9c335990d"
      },
      "execution_count": 23,
      "outputs": [
        {
          "output_type": "stream",
          "name": "stdout",
          "text": [
            "228.29740508276657\n"
          ]
        }
      ]
    },
    {
      "cell_type": "code",
      "source": [
        "scaler=StandardScaler();\n",
        "scaler.fit(x_train);\n",
        "\n",
        "x_train_standarized=scaler.transform(x_train)\n",
        "print(x_train_standarized)"
      ],
      "metadata": {
        "colab": {
          "base_uri": "https://localhost:8080/"
        },
        "id": "x5B2EUg65KRE",
        "outputId": "4a59e1bd-0647-4e4f-ba0c-5c2759e44756"
      },
      "execution_count": 24,
      "outputs": [
        {
          "output_type": "stream",
          "name": "stdout",
          "text": [
            "[[ 1.40381088  1.79283426  1.37960065 ...  1.044121    0.52295995\n",
            "   0.64990763]\n",
            " [ 1.16565505 -0.14461158  1.07121375 ...  0.5940779   0.44153782\n",
            "  -0.85281516]\n",
            " [-0.0307278  -0.77271123 -0.09822185 ... -0.64047556 -0.31161687\n",
            "  -0.69292805]\n",
            " ...\n",
            " [ 1.06478904  0.20084323  0.89267396 ...  0.01694621  3.06583565\n",
            "  -1.29952679]\n",
            " [ 1.51308238  2.3170559   1.67987211 ...  1.14728703 -0.16599653\n",
            "   0.82816016]\n",
            " [-0.73678981 -1.02636686 -0.74380549 ... -0.31826862 -0.40713129\n",
            "  -0.38233653]]\n"
          ]
        }
      ]
    },
    {
      "cell_type": "code",
      "source": [
        "x_test_standarized=scaler.transform(x_test);\n",
        "x_test_standarized"
      ],
      "metadata": {
        "colab": {
          "base_uri": "https://localhost:8080/"
        },
        "id": "DxYBKvs95nkg",
        "outputId": "f3950902-d029-4025-b444-1cac7ebf784a"
      },
      "execution_count": 25,
      "outputs": [
        {
          "output_type": "execute_result",
          "data": {
            "text/plain": [
              "array([[-0.99455847, -0.05522817, -0.93005495, ..., -0.5697545 ,\n",
              "         0.02503231, -0.50225186],\n",
              "       [ 0.10656204,  0.03898678,  0.08315834, ..., -0.32036185,\n",
              "        -0.70933265, -0.5692316 ],\n",
              "       [-0.72278064, -0.03348626, -0.73041501, ..., -0.75844367,\n",
              "         0.17378428, -0.12576093],\n",
              "       ...,\n",
              "       [ 0.68654154,  2.15036791,  0.65326834, ...,  0.36531844,\n",
              "        -1.10548262, -0.37639478],\n",
              "       [-0.35293864, -1.46362085, -0.41837615, ..., -0.95251542,\n",
              "        -0.9629939 , -0.86523882],\n",
              "       [-0.50703947, -1.02153533, -0.56445416, ..., -1.03818808,\n",
              "        -0.98021781, -1.37352859]])"
            ]
          },
          "metadata": {},
          "execution_count": 25
        }
      ]
    },
    {
      "cell_type": "code",
      "source": [
        "print(x_train_standarized.std(),x_test_standarized.std())"
      ],
      "metadata": {
        "colab": {
          "base_uri": "https://localhost:8080/"
        },
        "id": "Ho1GsZ0F53V_",
        "outputId": "6a9b4876-b6fa-40a1-c889-a5beb1473477"
      },
      "execution_count": 28,
      "outputs": [
        {
          "output_type": "stream",
          "name": "stdout",
          "text": [
            "1.0 0.8654541077212674\n"
          ]
        }
      ]
    }
  ]
}