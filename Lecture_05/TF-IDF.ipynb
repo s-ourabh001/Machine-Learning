{
  "nbformat": 4,
  "nbformat_minor": 0,
  "metadata": {
    "colab": {
      "provenance": [],
      "authorship_tag": "ABX9TyPBgW8Q2XUrS10OPlT5sRSV",
      "include_colab_link": true
    },
    "kernelspec": {
      "name": "python3",
      "display_name": "Python 3"
    },
    "language_info": {
      "name": "python"
    }
  },
  "cells": [
    {
      "cell_type": "markdown",
      "metadata": {
        "id": "view-in-github",
        "colab_type": "text"
      },
      "source": [
        "<a href=\"https://colab.research.google.com/github/s-ourabh001/Machine-Learning/blob/main/Lecture_05/TF-IDF.ipynb\" target=\"_parent\"><img src=\"https://colab.research.google.com/assets/colab-badge.svg\" alt=\"Open In Colab\"/></a>"
      ]
    },
    {
      "cell_type": "markdown",
      "source": [
        "feature extraction\n",
        "\n",
        "the mapping from textual data to real valued vectors\n",
        "\n",
        "bag og words(bow) : list of unique word in text corpus\n",
        "\n",
        "term frequency -inverse document frequency(TF-IDF): to count the number of times each word appears in a document\n",
        "\n",
        "term frequency(TF) = (no of times term t appears in a document) / (number of terms in the documment)\n",
        "\n",
        "inverse document frequency (IDF) = log(N/n) ,\n",
        " where ,N is the  number of documents and n is the number of documents a term t has appeared in .\n",
        "\n",
        " the IDF value of rare  word is high ,whereas  the IDF value of  frequent word is low\n",
        "\n",
        "   TF-IDF value of term=TF * IDF\n",
        "\n",
        "TF-IDF gives higher scores to terms that are frequent in one document but rare across others — making them more informative.\n",
        "\n",
        "\n",
        "Irrelevant or overly common words → Low TF-IDF\n",
        "\n",
        "Important, unique words → High TF-IDF\n",
        "\n",
        "The DataFrame might look like this:\n",
        "\n",
        "data\tdeep\tfun\tis\tlearning\tmachine\tpowerful\twith\n",
        "\n",
        "Doc 1\t0.0\t0.0\t0.58\t0.58\t0.45\t0.58\t0.0\t0.0\n",
        "\n",
        "Doc 2\t0.0\t0.0\t0.0\t0.58\t0.45\t0.0\t0.66\t0.0\n",
        "\n",
        "Doc 3\t0.0\t0.0\t0.58\t0.0\t0.45\t0.58\t0.0\t0.58\n",
        "\n",
        "Doc 4\t0.58\t0.58\t0.0\t0.0\t0.45\t0.0\t0.0\t0.58\n",
        "\n",
        "\n",
        "\n",
        "\n",
        "\n",
        "\n"
      ],
      "metadata": {
        "id": "y6zCb5YAVdJ2"
      }
    },
    {
      "cell_type": "code",
      "source": [
        "# u will be having one colum consinting of textual data then how to apply tgf-idf vectorizer to it is as follows\n",
        "from  sklearn.feature_extraction.text import TfidfVectorizer # importing dependecies\n",
        "vectorizer=TfidfVectorizer() #creating object\n",
        "\n",
        "vectorizer.fit(x); # x contain textual data\n",
        "\n",
        "x=vectorizer.tranfrom(x)\n",
        "\n",
        "print(x) # textual data is converted to numerical  data\n"
      ],
      "metadata": {
        "id": "EwP_tYmsYGyg"
      },
      "execution_count": null,
      "outputs": []
    }
  ]
}